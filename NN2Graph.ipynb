{
  "nbformat": 4,
  "nbformat_minor": 0,
  "metadata": {
    "colab": {
      "name": "NN2Graph.ipynb",
      "provenance": [],
      "authorship_tag": "ABX9TyN/AfIKGIjbhVkyalmBAGmC",
      "include_colab_link": true
    },
    "kernelspec": {
      "name": "python3",
      "display_name": "Python 3"
    },
    "language_info": {
      "name": "python"
    }
  },
  "cells": [
    {
      "cell_type": "markdown",
      "metadata": {
        "id": "view-in-github",
        "colab_type": "text"
      },
      "source": [
        "<a href=\"https://colab.research.google.com/github/Kunind27/Graph-Similarity-Computation/blob/main/NN2Graph.ipynb\" target=\"_parent\"><img src=\"https://colab.research.google.com/assets/colab-badge.svg\" alt=\"Open In Colab\"/></a>"
      ]
    },
    {
      "cell_type": "code",
      "metadata": {
        "id": "DAlv5NSP1TrK"
      },
      "source": [
        "import numpy as np\n",
        "import matplotlib.pyplot as plt\n",
        "import seaborn as sns\n",
        "sns.set(color_codes = True)\n",
        "%matplotlib inline"
      ],
      "execution_count": 1,
      "outputs": []
    },
    {
      "cell_type": "code",
      "metadata": {
        "colab": {
          "base_uri": "https://localhost:8080/"
        },
        "id": "fCXB3AF61pVu",
        "outputId": "bf416609-89a3-4d31-9a64-539ef6feab91"
      },
      "source": [
        "import torch\n",
        "import networkx as nx\n",
        "\n",
        "!pip install torch-scatter -f https://pytorch-geometric.com/whl/torch-1.9.0+cu102.html\n",
        "!pip install torch-sparse -f https://pytorch-geometric.com/whl/torch-1.9.0+cu102.html\n",
        "!pip install torch-geometric\n",
        "import torch_geometric"
      ],
      "execution_count": 2,
      "outputs": [
        {
          "output_type": "stream",
          "name": "stdout",
          "text": [
            "Looking in links: https://pytorch-geometric.com/whl/torch-1.9.0+cu102.html\n",
            "Collecting torch-scatter\n",
            "  Downloading https://data.pyg.org/whl/torch-1.9.0%2Bcu102/torch_scatter-2.0.8-cp37-cp37m-linux_x86_64.whl (8.0 MB)\n",
            "\u001b[K     |████████████████████████████████| 8.0 MB 4.3 MB/s \n",
            "\u001b[?25hInstalling collected packages: torch-scatter\n",
            "Successfully installed torch-scatter-2.0.8\n",
            "Looking in links: https://pytorch-geometric.com/whl/torch-1.9.0+cu102.html\n",
            "Collecting torch-sparse\n",
            "  Downloading https://data.pyg.org/whl/torch-1.9.0%2Bcu102/torch_sparse-0.6.12-cp37-cp37m-linux_x86_64.whl (2.9 MB)\n",
            "\u001b[K     |████████████████████████████████| 2.9 MB 4.1 MB/s \n",
            "\u001b[?25hRequirement already satisfied: scipy in /usr/local/lib/python3.7/dist-packages (from torch-sparse) (1.4.1)\n",
            "Requirement already satisfied: numpy>=1.13.3 in /usr/local/lib/python3.7/dist-packages (from scipy->torch-sparse) (1.19.5)\n",
            "Installing collected packages: torch-sparse\n",
            "Successfully installed torch-sparse-0.6.12\n",
            "Collecting torch-geometric\n",
            "  Downloading torch_geometric-2.0.0.tar.gz (308 kB)\n",
            "\u001b[K     |████████████████████████████████| 308 kB 4.0 MB/s \n",
            "\u001b[?25hRequirement already satisfied: numpy in /usr/local/lib/python3.7/dist-packages (from torch-geometric) (1.19.5)\n",
            "Requirement already satisfied: tqdm in /usr/local/lib/python3.7/dist-packages (from torch-geometric) (4.62.0)\n",
            "Requirement already satisfied: scipy in /usr/local/lib/python3.7/dist-packages (from torch-geometric) (1.4.1)\n",
            "Requirement already satisfied: networkx in /usr/local/lib/python3.7/dist-packages (from torch-geometric) (2.6.2)\n",
            "Requirement already satisfied: scikit-learn in /usr/local/lib/python3.7/dist-packages (from torch-geometric) (0.22.2.post1)\n",
            "Requirement already satisfied: requests in /usr/local/lib/python3.7/dist-packages (from torch-geometric) (2.23.0)\n",
            "Requirement already satisfied: pandas in /usr/local/lib/python3.7/dist-packages (from torch-geometric) (1.1.5)\n",
            "Collecting rdflib\n",
            "  Downloading rdflib-6.0.0-py3-none-any.whl (376 kB)\n",
            "\u001b[K     |████████████████████████████████| 376 kB 29.0 MB/s \n",
            "\u001b[?25hRequirement already satisfied: googledrivedownloader in /usr/local/lib/python3.7/dist-packages (from torch-geometric) (0.4)\n",
            "Requirement already satisfied: jinja2 in /usr/local/lib/python3.7/dist-packages (from torch-geometric) (2.11.3)\n",
            "Requirement already satisfied: pyparsing in /usr/local/lib/python3.7/dist-packages (from torch-geometric) (2.4.7)\n",
            "Collecting yacs\n",
            "  Downloading yacs-0.1.8-py3-none-any.whl (14 kB)\n",
            "Requirement already satisfied: PyYAML in /usr/local/lib/python3.7/dist-packages (from torch-geometric) (3.13)\n",
            "Requirement already satisfied: MarkupSafe>=0.23 in /usr/local/lib/python3.7/dist-packages (from jinja2->torch-geometric) (2.0.1)\n",
            "Requirement already satisfied: python-dateutil>=2.7.3 in /usr/local/lib/python3.7/dist-packages (from pandas->torch-geometric) (2.8.2)\n",
            "Requirement already satisfied: pytz>=2017.2 in /usr/local/lib/python3.7/dist-packages (from pandas->torch-geometric) (2018.9)\n",
            "Requirement already satisfied: six>=1.5 in /usr/local/lib/python3.7/dist-packages (from python-dateutil>=2.7.3->pandas->torch-geometric) (1.15.0)\n",
            "Requirement already satisfied: setuptools in /usr/local/lib/python3.7/dist-packages (from rdflib->torch-geometric) (57.4.0)\n",
            "Collecting isodate\n",
            "  Downloading isodate-0.6.0-py2.py3-none-any.whl (45 kB)\n",
            "\u001b[K     |████████████████████████████████| 45 kB 3.2 MB/s \n",
            "\u001b[?25hRequirement already satisfied: chardet<4,>=3.0.2 in /usr/local/lib/python3.7/dist-packages (from requests->torch-geometric) (3.0.4)\n",
            "Requirement already satisfied: urllib3!=1.25.0,!=1.25.1,<1.26,>=1.21.1 in /usr/local/lib/python3.7/dist-packages (from requests->torch-geometric) (1.24.3)\n",
            "Requirement already satisfied: idna<3,>=2.5 in /usr/local/lib/python3.7/dist-packages (from requests->torch-geometric) (2.10)\n",
            "Requirement already satisfied: certifi>=2017.4.17 in /usr/local/lib/python3.7/dist-packages (from requests->torch-geometric) (2021.5.30)\n",
            "Requirement already satisfied: joblib>=0.11 in /usr/local/lib/python3.7/dist-packages (from scikit-learn->torch-geometric) (1.0.1)\n",
            "Building wheels for collected packages: torch-geometric\n",
            "  Building wheel for torch-geometric (setup.py) ... \u001b[?25l\u001b[?25hdone\n",
            "  Created wheel for torch-geometric: filename=torch_geometric-2.0.0-py3-none-any.whl size=513273 sha256=a98d50dc10a95e73dee113f7788bc6267063568aa2a4aa675767e2b1796efe81\n",
            "  Stored in directory: /root/.cache/pip/wheels/b5/22/3f/10c97635d8d73e012582116b4e449d47fc64b7246cc71085fc\n",
            "Successfully built torch-geometric\n",
            "Installing collected packages: isodate, yacs, rdflib, torch-geometric\n",
            "Successfully installed isodate-0.6.0 rdflib-6.0.0 torch-geometric-2.0.0 yacs-0.1.8\n"
          ]
        }
      ]
    },
    {
      "cell_type": "code",
      "metadata": {
        "id": "wkepyl0d26_f"
      },
      "source": [
        "from torch import nn\n",
        "\n",
        "# Neural Network Specifications : \n",
        "class neural_network(torch.nn.Module):\n",
        "    def __init__(self, input_dim = 784, hidden_layer_dim = 25, output_dim = 10):\n",
        "        super(neural_network, self).__init__()\n",
        "        self.nn_model = nn.Sequential(nn.Linear(input_dim, hidden_layer_dim),\n",
        "                                      nn.ReLU(),\n",
        "                                      nn.Linear(hidden_layer_dim, output_dim),\n",
        "                                      nn.Softmax())\n",
        "    def forward(self, input):\n",
        "        return self.nn_model(input)"
      ],
      "execution_count": 3,
      "outputs": []
    },
    {
      "cell_type": "code",
      "metadata": {
        "colab": {
          "base_uri": "https://localhost:8080/"
        },
        "id": "TWldS0hs44CB",
        "outputId": "6cae8c5a-3f67-498c-f1a5-920a0aa62612"
      },
      "source": [
        "model = neural_network(input_dim = 2, hidden_layer_dim = 3, output_dim = 1)\n",
        "print(model)"
      ],
      "execution_count": 4,
      "outputs": [
        {
          "output_type": "stream",
          "name": "stdout",
          "text": [
            "neural_network(\n",
            "  (nn_model): Sequential(\n",
            "    (0): Linear(in_features=2, out_features=3, bias=True)\n",
            "    (1): ReLU()\n",
            "    (2): Linear(in_features=3, out_features=1, bias=True)\n",
            "    (3): Softmax(dim=None)\n",
            "  )\n",
            ")\n"
          ]
        }
      ]
    },
    {
      "cell_type": "code",
      "metadata": {
        "colab": {
          "base_uri": "https://localhost:8080/"
        },
        "id": "IvWvx2g15SMh",
        "outputId": "002d8aa3-aecb-43fa-c6f5-4f4d0195c315"
      },
      "source": [
        "model.parameters"
      ],
      "execution_count": 5,
      "outputs": [
        {
          "output_type": "execute_result",
          "data": {
            "text/plain": [
              "<bound method Module.parameters of neural_network(\n",
              "  (nn_model): Sequential(\n",
              "    (0): Linear(in_features=2, out_features=3, bias=True)\n",
              "    (1): ReLU()\n",
              "    (2): Linear(in_features=3, out_features=1, bias=True)\n",
              "    (3): Softmax(dim=None)\n",
              "  )\n",
              ")>"
            ]
          },
          "metadata": {},
          "execution_count": 5
        }
      ]
    },
    {
      "cell_type": "code",
      "metadata": {
        "colab": {
          "base_uri": "https://localhost:8080/"
        },
        "id": "HEeWxacoYG08",
        "outputId": "3ef296d9-f04f-4367-8a5d-eb6bce4f089b"
      },
      "source": [
        "model.state_dict()"
      ],
      "execution_count": 6,
      "outputs": [
        {
          "output_type": "execute_result",
          "data": {
            "text/plain": [
              "OrderedDict([('nn_model.0.weight', tensor([[-0.3129, -0.4216],\n",
              "                      [-0.1164,  0.3219],\n",
              "                      [-0.3994, -0.6330]])),\n",
              "             ('nn_model.0.bias', tensor([ 0.1072,  0.3362, -0.6118])),\n",
              "             ('nn_model.2.weight', tensor([[-0.5090, -0.3304,  0.2319]])),\n",
              "             ('nn_model.2.bias', tensor([0.3704]))])"
            ]
          },
          "metadata": {},
          "execution_count": 6
        }
      ]
    },
    {
      "cell_type": "code",
      "metadata": {
        "colab": {
          "base_uri": "https://localhost:8080/"
        },
        "id": "ss3b0RSVYPO3",
        "outputId": "e590fe7b-41ae-47f9-c7f6-5cf9f32a682b"
      },
      "source": [
        "for obj in model.children():\n",
        "    print(obj)"
      ],
      "execution_count": 7,
      "outputs": [
        {
          "output_type": "stream",
          "name": "stdout",
          "text": [
            "Sequential(\n",
            "  (0): Linear(in_features=2, out_features=3, bias=True)\n",
            "  (1): ReLU()\n",
            "  (2): Linear(in_features=3, out_features=1, bias=True)\n",
            "  (3): Softmax(dim=None)\n",
            ")\n"
          ]
        }
      ]
    },
    {
      "cell_type": "code",
      "metadata": {
        "colab": {
          "base_uri": "https://localhost:8080/"
        },
        "id": "SGebBws3zlO5",
        "outputId": "45feb464-22bd-4c3a-8ae7-faa54b923cbe"
      },
      "source": [
        "for i in model.state_dict().keys():\n",
        "    print(i)\n",
        "    print(model.state_dict()[i])"
      ],
      "execution_count": 8,
      "outputs": [
        {
          "output_type": "stream",
          "name": "stdout",
          "text": [
            "nn_model.0.weight\n",
            "tensor([[-0.3129, -0.4216],\n",
            "        [-0.1164,  0.3219],\n",
            "        [-0.3994, -0.6330]])\n",
            "nn_model.0.bias\n",
            "tensor([ 0.1072,  0.3362, -0.6118])\n",
            "nn_model.2.weight\n",
            "tensor([[-0.5090, -0.3304,  0.2319]])\n",
            "nn_model.2.bias\n",
            "tensor([0.3704])\n"
          ]
        }
      ]
    },
    {
      "cell_type": "code",
      "metadata": {
        "colab": {
          "base_uri": "https://localhost:8080/"
        },
        "id": "AO59QtZTclr0",
        "outputId": "49d2cf01-4402-4cb3-f242-9f88ac221f3e"
      },
      "source": [
        "for layer_name in model.state_dict().keys():\n",
        "    print(layer_name)\n",
        "    print(model.state_dict()[layer_name])\n",
        "    print(model.state_dict()[layer_name].shape)\n",
        "    print(model.state_dict()[layer_name].shape[0], end = \"\")\n",
        "    if len(model.state_dict()[layer_name].shape) > 1:\n",
        "        print(\" \",model.state_dict()[layer_name].shape[1], end = \"\")\n",
        "    print()"
      ],
      "execution_count": 9,
      "outputs": [
        {
          "output_type": "stream",
          "name": "stdout",
          "text": [
            "nn_model.0.weight\n",
            "tensor([[-0.3129, -0.4216],\n",
            "        [-0.1164,  0.3219],\n",
            "        [-0.3994, -0.6330]])\n",
            "torch.Size([3, 2])\n",
            "3  2\n",
            "nn_model.0.bias\n",
            "tensor([ 0.1072,  0.3362, -0.6118])\n",
            "torch.Size([3])\n",
            "3\n",
            "nn_model.2.weight\n",
            "tensor([[-0.5090, -0.3304,  0.2319]])\n",
            "torch.Size([1, 3])\n",
            "1  3\n",
            "nn_model.2.bias\n",
            "tensor([0.3704])\n",
            "torch.Size([1])\n",
            "1\n"
          ]
        }
      ]
    },
    {
      "cell_type": "code",
      "metadata": {
        "colab": {
          "base_uri": "https://localhost:8080/"
        },
        "id": "9mZIujDs-MYH",
        "outputId": "dbfac31c-9269-47a2-b151-68b1a9bdaf8d"
      },
      "source": [
        "model.state_dict()[\"nn_model.2.bias\"].shape[0]"
      ],
      "execution_count": 10,
      "outputs": [
        {
          "output_type": "execute_result",
          "data": {
            "text/plain": [
              "1"
            ]
          },
          "metadata": {},
          "execution_count": 10
        }
      ]
    },
    {
      "cell_type": "code",
      "metadata": {
        "colab": {
          "base_uri": "https://localhost:8080/"
        },
        "id": "qYA0VJzR4g8i",
        "outputId": "e2d071c6-9d57-426c-9c53-3dee131de989"
      },
      "source": [
        "total_neurons = 0\n",
        "\n",
        "for i, layer in enumerate(model.state_dict().keys()):\n",
        "    if i%2 == 0:\n",
        "        total_neurons += model.state_dict()[layer].shape[1] + 1 # No. of Neurons + Bias\n",
        "\n",
        "# Getting the last bias matrix\n",
        "last_layer = list(model.state_dict().keys())[-1]\n",
        "output_neurons = model.state_dict()[last_layer].shape[0]\n",
        "total_neurons += output_neurons\n",
        "\n",
        "print(total_neurons)"
      ],
      "execution_count": 11,
      "outputs": [
        {
          "output_type": "stream",
          "name": "stdout",
          "text": [
            "8\n"
          ]
        }
      ]
    },
    {
      "cell_type": "code",
      "metadata": {
        "colab": {
          "base_uri": "https://localhost:8080/"
        },
        "id": "ni_971AKDdWK",
        "outputId": "36315b3d-4467-4cb3-8646-f844c047687f"
      },
      "source": [
        "import time\n",
        "total_neurons = 0\n",
        "\n",
        "G = nx.MultiGraph()\n",
        "edge_list = []\n",
        "\n",
        "tik = time.time()\n",
        "for layer_num, layer in enumerate(model.state_dict().keys()):\n",
        "    if layer_num%2 == 0:\n",
        "        neurons_current_layer = model.state_dict()[layer].shape[1] + 1 # No. of Neurons + Bias\n",
        "        \n",
        "        total_neurons += neurons_current_layer # Incrementing the Total by neurons in current layer\n",
        "\n",
        "        neurons_next_layer = model.state_dict()[layer].shape[0]\n",
        "\n",
        "        for neuron1 in range(total_neurons - neurons_current_layer, total_neurons):\n",
        "            G.add_node(neuron1)\n",
        "            for neuron2 in range(total_neurons, total_neurons + neurons_next_layer):\n",
        "                G.add_node(neuron2)\n",
        "                G.add_edge(neuron1, neuron2)\n",
        "                G.add_edge(neuron2, neuron1)\n",
        "                edge_list.append([neuron1, neuron2])\n",
        "                edge_list.append([neuron2, neuron1])\n",
        "\n",
        "tok = time.time()\n",
        "print(tok-tik)"
      ],
      "execution_count": 12,
      "outputs": [
        {
          "output_type": "stream",
          "name": "stdout",
          "text": [
            "0.00042939186096191406\n"
          ]
        }
      ]
    },
    {
      "cell_type": "code",
      "metadata": {
        "colab": {
          "base_uri": "https://localhost:8080/"
        },
        "id": "uKeP7als_1vQ",
        "outputId": "2d0e742c-a925-417c-9438-3003cf2cca89"
      },
      "source": [
        "total_neurons"
      ],
      "execution_count": 13,
      "outputs": [
        {
          "output_type": "execute_result",
          "data": {
            "text/plain": [
              "7"
            ]
          },
          "metadata": {},
          "execution_count": 13
        }
      ]
    },
    {
      "cell_type": "code",
      "metadata": {
        "colab": {
          "base_uri": "https://localhost:8080/"
        },
        "id": "n4mbwn_7Kfdb",
        "outputId": "28214e73-5bf3-44d8-c788-6203d6e509a7"
      },
      "source": [
        "print(G.nodes())\n",
        "print(G.edges())\n",
        "print(edge_list)"
      ],
      "execution_count": 14,
      "outputs": [
        {
          "output_type": "stream",
          "name": "stdout",
          "text": [
            "[0, 3, 4, 5, 1, 2, 7, 6]\n",
            "[(0, 3), (0, 3), (0, 4), (0, 4), (0, 5), (0, 5), (3, 1), (3, 1), (3, 2), (3, 2), (3, 7), (3, 7), (4, 1), (4, 1), (4, 2), (4, 2), (4, 7), (4, 7), (5, 1), (5, 1), (5, 2), (5, 2), (5, 7), (5, 7), (7, 6), (7, 6)]\n",
            "[[0, 3], [3, 0], [0, 4], [4, 0], [0, 5], [5, 0], [1, 3], [3, 1], [1, 4], [4, 1], [1, 5], [5, 1], [2, 3], [3, 2], [2, 4], [4, 2], [2, 5], [5, 2], [3, 7], [7, 3], [4, 7], [7, 4], [5, 7], [7, 5], [6, 7], [7, 6]]\n"
          ]
        }
      ]
    },
    {
      "cell_type": "code",
      "metadata": {
        "colab": {
          "base_uri": "https://localhost:8080/",
          "height": 248
        },
        "id": "AjIucmtXMnCx",
        "outputId": "1bd6b769-bb8d-4046-ed15-e8c9a10f3a79"
      },
      "source": [
        "nx.draw_networkx(G)"
      ],
      "execution_count": 15,
      "outputs": [
        {
          "output_type": "display_data",
          "data": {
            "image/png": "[encoded data removed]",
            "text/plain": [
              "<Figure size 432x288 with 1 Axes>"
            ]
          },
          "metadata": {}
        }
      ]
    },
    {
      "cell_type": "code",
      "metadata": {
        "colab": {
          "base_uri": "https://localhost:8080/"
        },
        "id": "dQFhMjKG5Xo8",
        "outputId": "7b435d99-4102-4f68-d52a-17e8860a22c7"
      },
      "source": [
        "for layer in model.parameters():\n",
        "    print(layer)"
      ],
      "execution_count": 16,
      "outputs": [
        {
          "output_type": "stream",
          "name": "stdout",
          "text": [
            "Parameter containing:\n",
            "tensor([[-0.3129, -0.4216],\n",
            "        [-0.1164,  0.3219],\n",
            "        [-0.3994, -0.6330]], requires_grad=True)\n",
            "Parameter containing:\n",
            "tensor([ 0.1072,  0.3362, -0.6118], requires_grad=True)\n",
            "Parameter containing:\n",
            "tensor([[-0.5090, -0.3304,  0.2319]], requires_grad=True)\n",
            "Parameter containing:\n",
            "tensor([0.3704], requires_grad=True)\n"
          ]
        }
      ]
    }
  ]
}